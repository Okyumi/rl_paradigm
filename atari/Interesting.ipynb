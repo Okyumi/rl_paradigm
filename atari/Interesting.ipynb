{
 "cells": [
  {
   "cell_type": "code",
   "execution_count": 1,
   "id": "6be32796",
   "metadata": {},
   "outputs": [
    {
     "name": "stderr",
     "output_type": "stream",
     "text": [
      "2022-10-14 22:03:22.243917: I tensorflow/core/platform/cpu_feature_guard.cc:193] This TensorFlow binary is optimized with oneAPI Deep Neural Network Library (oneDNN) to use the following CPU instructions in performance-critical operations:  AVX2 AVX512F FMA\n",
      "To enable them in other operations, rebuild TensorFlow with the appropriate compiler flags.\n",
      "2022-10-14 22:03:22.453122: E tensorflow/stream_executor/cuda/cuda_blas.cc:2981] Unable to register cuBLAS factory: Attempting to register factory for plugin cuBLAS when one has already been registered\n",
      "2022-10-14 22:03:25.961213: W tensorflow/stream_executor/platform/default/dso_loader.cc:64] Could not load dynamic library 'libnvinfer.so.7'; dlerror: libnvinfer.so.7: cannot open shared object file: No such file or directory; LD_LIBRARY_PATH: /data/home/prajj/miniconda/envs/torch/lib/python3.10/site-packages/cv2/../../lib64:/opt/amazon/efa/lib:/opt/amazon/openmpi/lib:/usr/local/cuda/efa/lib:/usr/local/cuda/lib:/usr/local/cuda/lib64:/usr/local/cuda/extras/CUPTI/lib64:/usr/local/cuda/targets/x86_64-linux/lib:/usr/local/lib:/usr/lib:/opt/amazon/efa/lib:/opt/amazon/openmpi/lib:/usr/local/cuda/efa/lib:/usr/local/cuda/lib:/usr/local/cuda/lib64:/usr/local/cuda/extras/CUPTI/lib64:/usr/local/cuda/targets/x86_64-linux/lib:/usr/local/lib:/usr/lib:/opt/amazon/efa/lib:/opt/amazon/openmpi/lib:/usr/local/cuda/efa/lib:/usr/local/cuda/lib:/usr/local/cuda/lib64:/usr/local/cuda/extras/CUPTI/lib64:/usr/local/cuda/targets/x86_64-linux/lib:/usr/local/lib:/usr/lib::/data/home/prajj/.mujoco/mujoco210/bin:/usr/lib/nvidia:/data/home/prajj/.mujoco/mujoco210/bin:/usr/lib/nvidia\n",
      "2022-10-14 22:03:25.962798: W tensorflow/stream_executor/platform/default/dso_loader.cc:64] Could not load dynamic library 'libnvinfer_plugin.so.7'; dlerror: libnvinfer_plugin.so.7: cannot open shared object file: No such file or directory; LD_LIBRARY_PATH: /data/home/prajj/miniconda/envs/torch/lib/python3.10/site-packages/cv2/../../lib64:/opt/amazon/efa/lib:/opt/amazon/openmpi/lib:/usr/local/cuda/efa/lib:/usr/local/cuda/lib:/usr/local/cuda/lib64:/usr/local/cuda/extras/CUPTI/lib64:/usr/local/cuda/targets/x86_64-linux/lib:/usr/local/lib:/usr/lib:/opt/amazon/efa/lib:/opt/amazon/openmpi/lib:/usr/local/cuda/efa/lib:/usr/local/cuda/lib:/usr/local/cuda/lib64:/usr/local/cuda/extras/CUPTI/lib64:/usr/local/cuda/targets/x86_64-linux/lib:/usr/local/lib:/usr/lib:/opt/amazon/efa/lib:/opt/amazon/openmpi/lib:/usr/local/cuda/efa/lib:/usr/local/cuda/lib:/usr/local/cuda/lib64:/usr/local/cuda/extras/CUPTI/lib64:/usr/local/cuda/targets/x86_64-linux/lib:/usr/local/lib:/usr/lib::/data/home/prajj/.mujoco/mujoco210/bin:/usr/lib/nvidia:/data/home/prajj/.mujoco/mujoco210/bin:/usr/lib/nvidia\n",
      "2022-10-14 22:03:25.962809: W tensorflow/compiler/tf2tensorrt/utils/py_utils.cc:38] TF-TRT Warning: Cannot dlopen some TensorRT libraries. If you would like to use Nvidia GPU with TensorRT, please make sure the missing libraries mentioned above are installed properly.\n"
     ]
    }
   ],
   "source": [
    "from create_dataset import create_dataset"
   ]
  },
  {
   "cell_type": "code",
   "execution_count": 2,
   "id": "8030c96b",
   "metadata": {},
   "outputs": [],
   "source": [
    "import numpy as np\n",
    "import matplotlib.pyplot as plt"
   ]
  },
  {
   "cell_type": "code",
   "execution_count": 8,
   "id": "9fbff299",
   "metadata": {},
   "outputs": [],
   "source": [
    "N=10"
   ]
  },
  {
   "cell_type": "code",
   "execution_count": 9,
   "id": "298a51dd",
   "metadata": {},
   "outputs": [
    {
     "name": "stderr",
     "output_type": "stream",
     "text": [
      "WARNING:absl:Unable to find episode_end_indices. This is expected for old checkpoints.\n"
     ]
    },
    {
     "name": "stdout",
     "output_type": "stream",
     "text": [
      "loading from buffer 10 which has 0 already loaded\n",
      "INFO:tensorflow:Loaded replay buffer ckpt 10 from /fsx/prajj/datasets/atari/Breakout/1/replay_logs\n"
     ]
    },
    {
     "name": "stderr",
     "output_type": "stream",
     "text": [
      "INFO:tensorflow:Loaded replay buffer ckpt 10 from /fsx/prajj/datasets/atari/Breakout/1/replay_logs\n",
      "WARNING:absl:Unable to find episode_end_indices. This is expected for old checkpoints.\n"
     ]
    },
    {
     "name": "stdout",
     "output_type": "stream",
     "text": [
      "this buffer has 11532 loaded transitions and there are now 11532 transitions total divided into 10 trajectories\n",
      "loading from buffer 10 which has 11532 already loaded\n",
      "INFO:tensorflow:Loaded replay buffer ckpt 10 from /fsx/prajj/datasets/atari/Breakout/1/replay_logs\n"
     ]
    },
    {
     "name": "stderr",
     "output_type": "stream",
     "text": [
      "INFO:tensorflow:Loaded replay buffer ckpt 10 from /fsx/prajj/datasets/atari/Breakout/1/replay_logs\n",
      "WARNING:absl:Unable to find episode_end_indices. This is expected for old checkpoints.\n"
     ]
    },
    {
     "name": "stdout",
     "output_type": "stream",
     "text": [
      "this buffer has 25147 loaded transitions and there are now 25147 transitions total divided into 20 trajectories\n",
      "loading from buffer 10 which has 25147 already loaded\n",
      "INFO:tensorflow:Loaded replay buffer ckpt 10 from /fsx/prajj/datasets/atari/Breakout/1/replay_logs\n"
     ]
    },
    {
     "name": "stderr",
     "output_type": "stream",
     "text": [
      "INFO:tensorflow:Loaded replay buffer ckpt 10 from /fsx/prajj/datasets/atari/Breakout/1/replay_logs\n",
      "WARNING:absl:Unable to find episode_end_indices. This is expected for old checkpoints.\n"
     ]
    },
    {
     "name": "stdout",
     "output_type": "stream",
     "text": [
      "this buffer has 40196 loaded transitions and there are now 40196 transitions total divided into 30 trajectories\n",
      "loading from buffer 10 which has 40196 already loaded\n",
      "INFO:tensorflow:Loaded replay buffer ckpt 10 from /fsx/prajj/datasets/atari/Breakout/1/replay_logs\n"
     ]
    },
    {
     "name": "stderr",
     "output_type": "stream",
     "text": [
      "INFO:tensorflow:Loaded replay buffer ckpt 10 from /fsx/prajj/datasets/atari/Breakout/1/replay_logs\n",
      "WARNING:absl:Unable to find episode_end_indices. This is expected for old checkpoints.\n"
     ]
    },
    {
     "name": "stdout",
     "output_type": "stream",
     "text": [
      "this buffer has 57789 loaded transitions and there are now 57789 transitions total divided into 40 trajectories\n",
      "loading from buffer 10 which has 57789 already loaded\n",
      "INFO:tensorflow:Loaded replay buffer ckpt 10 from /fsx/prajj/datasets/atari/Breakout/1/replay_logs\n"
     ]
    },
    {
     "name": "stderr",
     "output_type": "stream",
     "text": [
      "INFO:tensorflow:Loaded replay buffer ckpt 10 from /fsx/prajj/datasets/atari/Breakout/1/replay_logs\n",
      "WARNING:absl:Unable to find episode_end_indices. This is expected for old checkpoints.\n"
     ]
    },
    {
     "name": "stdout",
     "output_type": "stream",
     "text": [
      "this buffer has 73573 loaded transitions and there are now 73573 transitions total divided into 50 trajectories\n",
      "loading from buffer 10 which has 73573 already loaded\n",
      "INFO:tensorflow:Loaded replay buffer ckpt 10 from /fsx/prajj/datasets/atari/Breakout/1/replay_logs\n"
     ]
    },
    {
     "name": "stderr",
     "output_type": "stream",
     "text": [
      "INFO:tensorflow:Loaded replay buffer ckpt 10 from /fsx/prajj/datasets/atari/Breakout/1/replay_logs\n",
      "WARNING:absl:Unable to find episode_end_indices. This is expected for old checkpoints.\n"
     ]
    },
    {
     "name": "stdout",
     "output_type": "stream",
     "text": [
      "this buffer has 86871 loaded transitions and there are now 86871 transitions total divided into 60 trajectories\n",
      "loading from buffer 10 which has 86871 already loaded\n",
      "INFO:tensorflow:Loaded replay buffer ckpt 10 from /fsx/prajj/datasets/atari/Breakout/1/replay_logs\n"
     ]
    },
    {
     "name": "stderr",
     "output_type": "stream",
     "text": [
      "INFO:tensorflow:Loaded replay buffer ckpt 10 from /fsx/prajj/datasets/atari/Breakout/1/replay_logs\n",
      "WARNING:absl:Unable to find episode_end_indices. This is expected for old checkpoints.\n"
     ]
    },
    {
     "name": "stdout",
     "output_type": "stream",
     "text": [
      "this buffer has 98579 loaded transitions and there are now 98579 transitions total divided into 70 trajectories\n",
      "loading from buffer 10 which has 98579 already loaded\n",
      "INFO:tensorflow:Loaded replay buffer ckpt 10 from /fsx/prajj/datasets/atari/Breakout/1/replay_logs\n"
     ]
    },
    {
     "name": "stderr",
     "output_type": "stream",
     "text": [
      "INFO:tensorflow:Loaded replay buffer ckpt 10 from /fsx/prajj/datasets/atari/Breakout/1/replay_logs\n",
      "WARNING:absl:Unable to find episode_end_indices. This is expected for old checkpoints.\n"
     ]
    },
    {
     "name": "stdout",
     "output_type": "stream",
     "text": [
      "this buffer has 112908 loaded transitions and there are now 112908 transitions total divided into 80 trajectories\n",
      "loading from buffer 10 which has 112908 already loaded\n",
      "INFO:tensorflow:Loaded replay buffer ckpt 10 from /fsx/prajj/datasets/atari/Breakout/1/replay_logs\n"
     ]
    },
    {
     "name": "stderr",
     "output_type": "stream",
     "text": [
      "INFO:tensorflow:Loaded replay buffer ckpt 10 from /fsx/prajj/datasets/atari/Breakout/1/replay_logs\n",
      "WARNING:absl:Unable to find episode_end_indices. This is expected for old checkpoints.\n"
     ]
    },
    {
     "name": "stdout",
     "output_type": "stream",
     "text": [
      "this buffer has 127368 loaded transitions and there are now 127368 transitions total divided into 90 trajectories\n",
      "loading from buffer 10 which has 127368 already loaded\n",
      "INFO:tensorflow:Loaded replay buffer ckpt 10 from /fsx/prajj/datasets/atari/Breakout/1/replay_logs\n"
     ]
    },
    {
     "name": "stderr",
     "output_type": "stream",
     "text": [
      "INFO:tensorflow:Loaded replay buffer ckpt 10 from /fsx/prajj/datasets/atari/Breakout/1/replay_logs\n",
      "WARNING:absl:Unable to find episode_end_indices. This is expected for old checkpoints.\n"
     ]
    },
    {
     "name": "stdout",
     "output_type": "stream",
     "text": [
      "this buffer has 143855 loaded transitions and there are now 143855 transitions total divided into 100 trajectories\n",
      "loading from buffer 10 which has 143855 already loaded\n",
      "INFO:tensorflow:Loaded replay buffer ckpt 10 from /fsx/prajj/datasets/atari/Breakout/1/replay_logs\n"
     ]
    },
    {
     "name": "stderr",
     "output_type": "stream",
     "text": [
      "INFO:tensorflow:Loaded replay buffer ckpt 10 from /fsx/prajj/datasets/atari/Breakout/1/replay_logs\n",
      "WARNING:absl:Unable to find episode_end_indices. This is expected for old checkpoints.\n"
     ]
    },
    {
     "name": "stdout",
     "output_type": "stream",
     "text": [
      "this buffer has 159970 loaded transitions and there are now 159970 transitions total divided into 110 trajectories\n",
      "loading from buffer 10 which has 159970 already loaded\n",
      "INFO:tensorflow:Loaded replay buffer ckpt 10 from /fsx/prajj/datasets/atari/Breakout/1/replay_logs\n"
     ]
    },
    {
     "name": "stderr",
     "output_type": "stream",
     "text": [
      "INFO:tensorflow:Loaded replay buffer ckpt 10 from /fsx/prajj/datasets/atari/Breakout/1/replay_logs\n",
      "WARNING:absl:Unable to find episode_end_indices. This is expected for old checkpoints.\n"
     ]
    },
    {
     "name": "stdout",
     "output_type": "stream",
     "text": [
      "this buffer has 174683 loaded transitions and there are now 174683 transitions total divided into 120 trajectories\n",
      "loading from buffer 10 which has 174683 already loaded\n",
      "INFO:tensorflow:Loaded replay buffer ckpt 10 from /fsx/prajj/datasets/atari/Breakout/1/replay_logs\n"
     ]
    },
    {
     "name": "stderr",
     "output_type": "stream",
     "text": [
      "INFO:tensorflow:Loaded replay buffer ckpt 10 from /fsx/prajj/datasets/atari/Breakout/1/replay_logs\n",
      "WARNING:absl:Unable to find episode_end_indices. This is expected for old checkpoints.\n"
     ]
    },
    {
     "name": "stdout",
     "output_type": "stream",
     "text": [
      "this buffer has 192297 loaded transitions and there are now 192297 transitions total divided into 130 trajectories\n",
      "loading from buffer 10 which has 192297 already loaded\n",
      "INFO:tensorflow:Loaded replay buffer ckpt 10 from /fsx/prajj/datasets/atari/Breakout/1/replay_logs\n"
     ]
    },
    {
     "name": "stderr",
     "output_type": "stream",
     "text": [
      "INFO:tensorflow:Loaded replay buffer ckpt 10 from /fsx/prajj/datasets/atari/Breakout/1/replay_logs\n",
      "WARNING:absl:Unable to find episode_end_indices. This is expected for old checkpoints.\n"
     ]
    },
    {
     "name": "stdout",
     "output_type": "stream",
     "text": [
      "this buffer has 208909 loaded transitions and there are now 208909 transitions total divided into 140 trajectories\n",
      "loading from buffer 10 which has 208909 already loaded\n",
      "INFO:tensorflow:Loaded replay buffer ckpt 10 from /fsx/prajj/datasets/atari/Breakout/1/replay_logs\n"
     ]
    },
    {
     "name": "stderr",
     "output_type": "stream",
     "text": [
      "INFO:tensorflow:Loaded replay buffer ckpt 10 from /fsx/prajj/datasets/atari/Breakout/1/replay_logs\n",
      "WARNING:absl:Unable to find episode_end_indices. This is expected for old checkpoints.\n"
     ]
    },
    {
     "name": "stdout",
     "output_type": "stream",
     "text": [
      "this buffer has 224924 loaded transitions and there are now 224924 transitions total divided into 150 trajectories\n",
      "loading from buffer 10 which has 224924 already loaded\n",
      "INFO:tensorflow:Loaded replay buffer ckpt 10 from /fsx/prajj/datasets/atari/Breakout/1/replay_logs\n"
     ]
    },
    {
     "name": "stderr",
     "output_type": "stream",
     "text": [
      "INFO:tensorflow:Loaded replay buffer ckpt 10 from /fsx/prajj/datasets/atari/Breakout/1/replay_logs\n",
      "WARNING:absl:Unable to find episode_end_indices. This is expected for old checkpoints.\n"
     ]
    },
    {
     "name": "stdout",
     "output_type": "stream",
     "text": [
      "this buffer has 240888 loaded transitions and there are now 240888 transitions total divided into 160 trajectories\n",
      "loading from buffer 10 which has 240888 already loaded\n",
      "INFO:tensorflow:Loaded replay buffer ckpt 10 from /fsx/prajj/datasets/atari/Breakout/1/replay_logs\n"
     ]
    },
    {
     "name": "stderr",
     "output_type": "stream",
     "text": [
      "INFO:tensorflow:Loaded replay buffer ckpt 10 from /fsx/prajj/datasets/atari/Breakout/1/replay_logs\n",
      "WARNING:absl:Unable to find episode_end_indices. This is expected for old checkpoints.\n"
     ]
    },
    {
     "name": "stdout",
     "output_type": "stream",
     "text": [
      "this buffer has 254594 loaded transitions and there are now 254594 transitions total divided into 170 trajectories\n",
      "loading from buffer 10 which has 254594 already loaded\n",
      "INFO:tensorflow:Loaded replay buffer ckpt 10 from /fsx/prajj/datasets/atari/Breakout/1/replay_logs\n"
     ]
    },
    {
     "name": "stderr",
     "output_type": "stream",
     "text": [
      "INFO:tensorflow:Loaded replay buffer ckpt 10 from /fsx/prajj/datasets/atari/Breakout/1/replay_logs\n",
      "WARNING:absl:Unable to find episode_end_indices. This is expected for old checkpoints.\n"
     ]
    },
    {
     "name": "stdout",
     "output_type": "stream",
     "text": [
      "this buffer has 268476 loaded transitions and there are now 268476 transitions total divided into 180 trajectories\n",
      "loading from buffer 10 which has 268476 already loaded\n",
      "INFO:tensorflow:Loaded replay buffer ckpt 10 from /fsx/prajj/datasets/atari/Breakout/1/replay_logs\n"
     ]
    },
    {
     "name": "stderr",
     "output_type": "stream",
     "text": [
      "INFO:tensorflow:Loaded replay buffer ckpt 10 from /fsx/prajj/datasets/atari/Breakout/1/replay_logs\n",
      "WARNING:absl:Unable to find episode_end_indices. This is expected for old checkpoints.\n"
     ]
    },
    {
     "name": "stdout",
     "output_type": "stream",
     "text": [
      "this buffer has 281874 loaded transitions and there are now 281874 transitions total divided into 190 trajectories\n",
      "loading from buffer 10 which has 281874 already loaded\n",
      "INFO:tensorflow:Loaded replay buffer ckpt 10 from /fsx/prajj/datasets/atari/Breakout/1/replay_logs\n"
     ]
    },
    {
     "name": "stderr",
     "output_type": "stream",
     "text": [
      "INFO:tensorflow:Loaded replay buffer ckpt 10 from /fsx/prajj/datasets/atari/Breakout/1/replay_logs\n",
      "WARNING:absl:Unable to find episode_end_indices. This is expected for old checkpoints.\n"
     ]
    },
    {
     "name": "stdout",
     "output_type": "stream",
     "text": [
      "this buffer has 296407 loaded transitions and there are now 296407 transitions total divided into 200 trajectories\n",
      "loading from buffer 10 which has 296407 already loaded\n",
      "INFO:tensorflow:Loaded replay buffer ckpt 10 from /fsx/prajj/datasets/atari/Breakout/1/replay_logs\n"
     ]
    },
    {
     "name": "stderr",
     "output_type": "stream",
     "text": [
      "INFO:tensorflow:Loaded replay buffer ckpt 10 from /fsx/prajj/datasets/atari/Breakout/1/replay_logs\n",
      "WARNING:absl:Unable to find episode_end_indices. This is expected for old checkpoints.\n"
     ]
    },
    {
     "name": "stdout",
     "output_type": "stream",
     "text": [
      "this buffer has 307703 loaded transitions and there are now 307703 transitions total divided into 210 trajectories\n",
      "loading from buffer 10 which has 307703 already loaded\n",
      "INFO:tensorflow:Loaded replay buffer ckpt 10 from /fsx/prajj/datasets/atari/Breakout/1/replay_logs\n"
     ]
    },
    {
     "name": "stderr",
     "output_type": "stream",
     "text": [
      "INFO:tensorflow:Loaded replay buffer ckpt 10 from /fsx/prajj/datasets/atari/Breakout/1/replay_logs\n",
      "WARNING:absl:Unable to find episode_end_indices. This is expected for old checkpoints.\n"
     ]
    },
    {
     "name": "stdout",
     "output_type": "stream",
     "text": [
      "this buffer has 321388 loaded transitions and there are now 321388 transitions total divided into 220 trajectories\n",
      "loading from buffer 10 which has 321388 already loaded\n",
      "INFO:tensorflow:Loaded replay buffer ckpt 10 from /fsx/prajj/datasets/atari/Breakout/1/replay_logs\n"
     ]
    },
    {
     "name": "stderr",
     "output_type": "stream",
     "text": [
      "INFO:tensorflow:Loaded replay buffer ckpt 10 from /fsx/prajj/datasets/atari/Breakout/1/replay_logs\n",
      "WARNING:absl:Unable to find episode_end_indices. This is expected for old checkpoints.\n"
     ]
    },
    {
     "name": "stdout",
     "output_type": "stream",
     "text": [
      "this buffer has 335763 loaded transitions and there are now 335763 transitions total divided into 230 trajectories\n",
      "loading from buffer 10 which has 335763 already loaded\n",
      "INFO:tensorflow:Loaded replay buffer ckpt 10 from /fsx/prajj/datasets/atari/Breakout/1/replay_logs\n"
     ]
    },
    {
     "name": "stderr",
     "output_type": "stream",
     "text": [
      "INFO:tensorflow:Loaded replay buffer ckpt 10 from /fsx/prajj/datasets/atari/Breakout/1/replay_logs\n",
      "WARNING:absl:Unable to find episode_end_indices. This is expected for old checkpoints.\n"
     ]
    },
    {
     "name": "stdout",
     "output_type": "stream",
     "text": [
      "this buffer has 354175 loaded transitions and there are now 354175 transitions total divided into 240 trajectories\n",
      "loading from buffer 10 which has 354175 already loaded\n",
      "INFO:tensorflow:Loaded replay buffer ckpt 10 from /fsx/prajj/datasets/atari/Breakout/1/replay_logs\n"
     ]
    },
    {
     "name": "stderr",
     "output_type": "stream",
     "text": [
      "INFO:tensorflow:Loaded replay buffer ckpt 10 from /fsx/prajj/datasets/atari/Breakout/1/replay_logs\n",
      "WARNING:absl:Unable to find episode_end_indices. This is expected for old checkpoints.\n"
     ]
    },
    {
     "name": "stdout",
     "output_type": "stream",
     "text": [
      "this buffer has 368695 loaded transitions and there are now 368695 transitions total divided into 250 trajectories\n",
      "loading from buffer 10 which has 368695 already loaded\n",
      "INFO:tensorflow:Loaded replay buffer ckpt 10 from /fsx/prajj/datasets/atari/Breakout/1/replay_logs\n"
     ]
    },
    {
     "name": "stderr",
     "output_type": "stream",
     "text": [
      "INFO:tensorflow:Loaded replay buffer ckpt 10 from /fsx/prajj/datasets/atari/Breakout/1/replay_logs\n",
      "WARNING:absl:Unable to find episode_end_indices. This is expected for old checkpoints.\n"
     ]
    },
    {
     "name": "stdout",
     "output_type": "stream",
     "text": [
      "this buffer has 382649 loaded transitions and there are now 382649 transitions total divided into 260 trajectories\n",
      "loading from buffer 10 which has 382649 already loaded\n",
      "INFO:tensorflow:Loaded replay buffer ckpt 10 from /fsx/prajj/datasets/atari/Breakout/1/replay_logs\n"
     ]
    },
    {
     "name": "stderr",
     "output_type": "stream",
     "text": [
      "INFO:tensorflow:Loaded replay buffer ckpt 10 from /fsx/prajj/datasets/atari/Breakout/1/replay_logs\n",
      "WARNING:absl:Unable to find episode_end_indices. This is expected for old checkpoints.\n"
     ]
    },
    {
     "name": "stdout",
     "output_type": "stream",
     "text": [
      "this buffer has 400571 loaded transitions and there are now 400571 transitions total divided into 270 trajectories\n",
      "loading from buffer 10 which has 400571 already loaded\n",
      "INFO:tensorflow:Loaded replay buffer ckpt 10 from /fsx/prajj/datasets/atari/Breakout/1/replay_logs\n"
     ]
    },
    {
     "name": "stderr",
     "output_type": "stream",
     "text": [
      "INFO:tensorflow:Loaded replay buffer ckpt 10 from /fsx/prajj/datasets/atari/Breakout/1/replay_logs\n",
      "WARNING:absl:Unable to find episode_end_indices. This is expected for old checkpoints.\n"
     ]
    },
    {
     "name": "stdout",
     "output_type": "stream",
     "text": [
      "this buffer has 415713 loaded transitions and there are now 415713 transitions total divided into 280 trajectories\n",
      "loading from buffer 10 which has 415713 already loaded\n",
      "INFO:tensorflow:Loaded replay buffer ckpt 10 from /fsx/prajj/datasets/atari/Breakout/1/replay_logs\n"
     ]
    },
    {
     "name": "stderr",
     "output_type": "stream",
     "text": [
      "INFO:tensorflow:Loaded replay buffer ckpt 10 from /fsx/prajj/datasets/atari/Breakout/1/replay_logs\n",
      "WARNING:absl:Unable to find episode_end_indices. This is expected for old checkpoints.\n"
     ]
    },
    {
     "name": "stdout",
     "output_type": "stream",
     "text": [
      "this buffer has 430854 loaded transitions and there are now 430854 transitions total divided into 290 trajectories\n",
      "loading from buffer 10 which has 430854 already loaded\n",
      "INFO:tensorflow:Loaded replay buffer ckpt 10 from /fsx/prajj/datasets/atari/Breakout/1/replay_logs\n"
     ]
    },
    {
     "name": "stderr",
     "output_type": "stream",
     "text": [
      "INFO:tensorflow:Loaded replay buffer ckpt 10 from /fsx/prajj/datasets/atari/Breakout/1/replay_logs\n",
      "WARNING:absl:Unable to find episode_end_indices. This is expected for old checkpoints.\n"
     ]
    },
    {
     "name": "stdout",
     "output_type": "stream",
     "text": [
      "this buffer has 445915 loaded transitions and there are now 445915 transitions total divided into 300 trajectories\n",
      "loading from buffer 10 which has 445915 already loaded\n",
      "INFO:tensorflow:Loaded replay buffer ckpt 10 from /fsx/prajj/datasets/atari/Breakout/1/replay_logs\n"
     ]
    },
    {
     "name": "stderr",
     "output_type": "stream",
     "text": [
      "INFO:tensorflow:Loaded replay buffer ckpt 10 from /fsx/prajj/datasets/atari/Breakout/1/replay_logs\n",
      "WARNING:absl:Unable to find episode_end_indices. This is expected for old checkpoints.\n"
     ]
    },
    {
     "name": "stdout",
     "output_type": "stream",
     "text": [
      "this buffer has 462418 loaded transitions and there are now 462418 transitions total divided into 310 trajectories\n",
      "loading from buffer 10 which has 462418 already loaded\n",
      "INFO:tensorflow:Loaded replay buffer ckpt 10 from /fsx/prajj/datasets/atari/Breakout/1/replay_logs\n"
     ]
    },
    {
     "name": "stderr",
     "output_type": "stream",
     "text": [
      "INFO:tensorflow:Loaded replay buffer ckpt 10 from /fsx/prajj/datasets/atari/Breakout/1/replay_logs\n",
      "WARNING:absl:Unable to find episode_end_indices. This is expected for old checkpoints.\n"
     ]
    },
    {
     "name": "stdout",
     "output_type": "stream",
     "text": [
      "this buffer has 477528 loaded transitions and there are now 477528 transitions total divided into 320 trajectories\n",
      "loading from buffer 10 which has 477528 already loaded\n",
      "INFO:tensorflow:Loaded replay buffer ckpt 10 from /fsx/prajj/datasets/atari/Breakout/1/replay_logs\n"
     ]
    },
    {
     "name": "stderr",
     "output_type": "stream",
     "text": [
      "INFO:tensorflow:Loaded replay buffer ckpt 10 from /fsx/prajj/datasets/atari/Breakout/1/replay_logs\n",
      "WARNING:absl:Unable to find episode_end_indices. This is expected for old checkpoints.\n"
     ]
    },
    {
     "name": "stdout",
     "output_type": "stream",
     "text": [
      "this buffer has 493617 loaded transitions and there are now 493617 transitions total divided into 330 trajectories\n",
      "loading from buffer 10 which has 493617 already loaded\n",
      "INFO:tensorflow:Loaded replay buffer ckpt 10 from /fsx/prajj/datasets/atari/Breakout/1/replay_logs\n"
     ]
    },
    {
     "name": "stderr",
     "output_type": "stream",
     "text": [
      "INFO:tensorflow:Loaded replay buffer ckpt 10 from /fsx/prajj/datasets/atari/Breakout/1/replay_logs\n"
     ]
    },
    {
     "name": "stdout",
     "output_type": "stream",
     "text": [
      "this buffer has 508883 loaded transitions and there are now 508883 transitions total divided into 340 trajectories\n",
      "max rtg is 91\n",
      "max timestep is 3558\n"
     ]
    }
   ],
   "source": [
    "obss, actions, returns, done_idxs, rtgs, timesteps = create_dataset(50,\n",
    "                                                                    500000,\n",
    "                                                                    \"Breakout\", \n",
    "                                                                    \"/fsx/prajj/datasets/atari/\",\n",
    "                                                                    10,\n",
    "                                                                    1000000,\n",
    "                                                                    N)"
   ]
  },
  {
   "cell_type": "code",
   "execution_count": 10,
   "id": "d11a5fae",
   "metadata": {},
   "outputs": [],
   "source": [
    "actions = np.array(actions)\n",
    "returns = np.array(returns)\n",
    "done_idxs = np.array(done_idxs)\n",
    "timesteps = np.array(timesteps)"
   ]
  },
  {
   "cell_type": "code",
   "execution_count": 11,
   "id": "dd93b021",
   "metadata": {},
   "outputs": [],
   "source": [
    "from collections import Counter"
   ]
  },
  {
   "cell_type": "code",
   "execution_count": 12,
   "id": "157c83e7",
   "metadata": {},
   "outputs": [
    {
     "data": {
      "image/png": "[encoded data removed]",
      "text/plain": [
       "<Figure size 432x288 with 1 Axes>"
      ]
     },
     "metadata": {
      "needs_background": "light"
     },
     "output_type": "display_data"
    }
   ],
   "source": [
    "plt.bar(x = Counter(returns).values(), height = Counter(returns).keys())\n",
    "plt.title(f'N={N}')\n",
    "plt.savefig(f\"n_{N}.png\", dpi=300)"
   ]
  },
  {
   "cell_type": "code",
   "execution_count": null,
   "id": "7a3a2894",
   "metadata": {},
   "outputs": [],
   "source": []
  }
 ],
 "metadata": {
  "kernelspec": {
   "display_name": "Python 3 (ipykernel)",
   "language": "python",
   "name": "python3"
  },
  "language_info": {
   "codemirror_mode": {
    "name": "ipython",
    "version": 3
   },
   "file_extension": ".py",
   "mimetype": "text/x-python",
   "name": "python",
   "nbconvert_exporter": "python",
   "pygments_lexer": "ipython3",
   "version": "3.10.4"
  }
 },
 "nbformat": 4,
 "nbformat_minor": 5
}
